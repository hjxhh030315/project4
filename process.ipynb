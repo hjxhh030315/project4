{
 "cells": [
  {
   "cell_type": "code",
   "execution_count": 1,
   "metadata": {},
   "outputs": [
    {
     "name": "stdout",
     "output_type": "stream",
     "text": [
      "BVP_all.csv saved with 28370578 rows.\n",
      "EDA_all.csv saved with 1773180 rows.\n",
      "HR_all.csv saved with 443062 rows.\n",
      "TEMP_all.csv saved with 1773044 rows.\n"
     ]
    }
   ],
   "source": [
    "import os\n",
    "import pandas as pd\n",
    "\n",
    "# Define signals and their sampling rates\n",
    "SIGNALS = {\n",
    "    \"BVP\": 64,\n",
    "    \"EDA\": 4,\n",
    "    \"HR\": 1,\n",
    "    \"TEMP\": 4\n",
    "}\n",
    "\n",
    "# Root data directory\n",
    "DATA_DIR = \"./data\"\n",
    "\n",
    "# Output files: one per signal\n",
    "output_dfs = {signal: [] for signal in SIGNALS}\n",
    "\n",
    "# Loop through students (s1 to s10)\n",
    "for student in os.listdir(DATA_DIR):\n",
    "    student_path = os.path.join(DATA_DIR, student)\n",
    "    if not os.path.isdir(student_path):\n",
    "        continue\n",
    "\n",
    "    # Loop through exams (midterm_1, midterm_2, final)\n",
    "    for exam in os.listdir(student_path):\n",
    "        exam_path = os.path.join(student_path, exam)\n",
    "        if not os.path.isdir(exam_path):\n",
    "            continue\n",
    "\n",
    "        # For each desired signal\n",
    "        for signal, freq in SIGNALS.items():\n",
    "            signal_file = os.path.join(exam_path, f\"{signal}.csv\")\n",
    "            if os.path.exists(signal_file):\n",
    "                df = pd.read_csv(signal_file, header=None, names=[\"value\"])\n",
    "                df[\"timestamp\"] = df.index / freq\n",
    "                df[\"student\"] = student\n",
    "                df[\"exam\"] = exam\n",
    "                output_dfs[signal].append(df[[\"student\", \"exam\", \"timestamp\", \"value\"]])\n",
    "\n",
    "# Save the combined files\n",
    "for signal, dfs in output_dfs.items():\n",
    "    combined_df = pd.concat(dfs, ignore_index=True)\n",
    "    combined_df.to_csv(f\"{signal}_all.csv\", index=False)\n",
    "    print(f\"{signal}_all.csv saved with {len(combined_df)} rows.\")\n"
   ]
  },
  {
   "cell_type": "code",
   "execution_count": null,
   "metadata": {},
   "outputs": [],
   "source": []
  }
 ],
 "metadata": {
  "kernelspec": {
   "display_name": "dsc80",
   "language": "python",
   "name": "python3"
  },
  "language_info": {
   "codemirror_mode": {
    "name": "ipython",
    "version": 3
   },
   "file_extension": ".py",
   "mimetype": "text/x-python",
   "name": "python",
   "nbconvert_exporter": "python",
   "pygments_lexer": "ipython3",
   "version": "3.12.7"
  }
 },
 "nbformat": 4,
 "nbformat_minor": 2
}
